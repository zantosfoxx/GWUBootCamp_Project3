{
 "cells": [
  {
   "cell_type": "code",
   "execution_count": null,
   "metadata": {},
   "outputs": [],
   "source": [
    "#pip install quandl"
   ]
  },
  {
   "cell_type": "code",
   "execution_count": null,
   "metadata": {},
   "outputs": [],
   "source": [
    "# Dependencies\n",
    "import quandl\n",
    "import numpy as np\n",
    "import pandas as pd\n",
    "import matplotlib.pyplot as plt\n",
    "%matplotlib inline\n",
    "from config import API_key\n",
    "\n",
    "import pymysql\n",
    "pymysql.install_as_MySQLdb()\n",
    "from sqlalchemy import create_engine"
   ]
  },
  {
   "cell_type": "markdown",
   "metadata": {},
   "source": [
    "# PRIME RATE\n",
    "The prime rate is a guiding interest rate that lenders reference when they set interest rates for consumers on things like credit cards, loans or mortgages. The current prime rate is 3.25%.\n",
    "\n",
    "Average Reported Prime Rate,Weighted by the Amount Loans Priced Relative to Prime, by Base Pricing Rate"
   ]
  },
  {
   "cell_type": "code",
   "execution_count": null,
   "metadata": {},
   "outputs": [],
   "source": [
    "prime_rate = pd.read_csv(\"../GWUBootCamp_Project3/static/data/MPRIME.csv\")\n",
    "prime_rate.head()"
   ]
  },
  {
   "cell_type": "code",
   "execution_count": null,
   "metadata": {},
   "outputs": [],
   "source": [
    "# change datatype of date column to datetime\n",
    "prime_rate['Date'] = pd.to_datetime(prime_rate['Date'])"
   ]
  },
  {
   "cell_type": "code",
   "execution_count": null,
   "metadata": {},
   "outputs": [],
   "source": [
    "# Filter data for 15 years\n",
    "filtered_prime_rate = prime_rate.loc[(prime_rate['Date'] >= '2006-01-01') ]\n",
    "                     \n",
    "filtered_prime_rate.head()"
   ]
  },
  {
   "cell_type": "code",
   "execution_count": null,
   "metadata": {},
   "outputs": [],
   "source": [
    "# SET DATE AS INDEX\n",
    "filtered_prime_rate_df =filtered_prime_rate.set_index('Date')\n",
    "filtered_prime_rate_df.tail()"
   ]
  },
  {
   "cell_type": "markdown",
   "metadata": {},
   "source": [
    "# FREDDIE-MAC's  30-Year Fixed Rate Mortgage Average in the United States"
   ]
  },
  {
   "cell_type": "code",
   "execution_count": null,
   "metadata": {},
   "outputs": [],
   "source": [
    "# FREDDIE-MAC's 30-Year Fixed Rate Mortgage Average in the United States\n",
    "home_mortgage_avg_rate_30 = quandl.get(\"FMAC/30US\", authtoken=API_key)\n",
    "home_mortgage_avg_rate_30.tail()"
   ]
  },
  {
   "cell_type": "code",
   "execution_count": null,
   "metadata": {},
   "outputs": [],
   "source": [
    "home_mortgage_avg_rate_30 = home_mortgage_avg_rate_30.reset_index()\n",
    "home_mortgage_avg_rate_30.tail()"
   ]
  },
  {
   "cell_type": "code",
   "execution_count": null,
   "metadata": {},
   "outputs": [],
   "source": [
    "home_mortgage_avg_rate_30_filter = home_mortgage_avg_rate_30.loc[(home_mortgage_avg_rate_30['Date'] >= '2006-01-01') ]\n",
    "home_mortgage_avg_rate_30_filter.head()"
   ]
  },
  {
   "cell_type": "code",
   "execution_count": null,
   "metadata": {},
   "outputs": [],
   "source": [
    "home_mortgage_avg_rate_30_filter = home_mortgage_avg_rate_30_filter.set_index('Date')\n",
    "home_mortgage_avg_rate_30_filter.tail()"
   ]
  },
  {
   "cell_type": "markdown",
   "metadata": {},
   "source": [
    "# 15-Year Fixed Rate Mortgage Average in the United States"
   ]
  },
  {
   "cell_type": "code",
   "execution_count": null,
   "metadata": {},
   "outputs": [],
   "source": [
    "home_mortgage_avg_rate_15 = quandl.get(\"FMAC/15US\", authtoken=API_key)\n",
    "home_mortgage_avg_rate_15.tail()"
   ]
  },
  {
   "cell_type": "code",
   "execution_count": null,
   "metadata": {},
   "outputs": [],
   "source": [
    "home_mortgage_avg_rate_15 = home_mortgage_avg_rate_15.reset_index()\n",
    "home_mortgage_avg_rate_15.tail()"
   ]
  },
  {
   "cell_type": "code",
   "execution_count": null,
   "metadata": {},
   "outputs": [],
   "source": [
    "home_mortgage_avg_rate_15_filter = home_mortgage_avg_rate_15.loc[(home_mortgage_avg_rate_15['Date'] >= '2006-01-01') ]\n",
    "                     \n",
    "home_mortgage_avg_rate_15_filter.tail()"
   ]
  },
  {
   "cell_type": "code",
   "execution_count": null,
   "metadata": {},
   "outputs": [],
   "source": [
    "home_mortgage_avg_rate_15_filter = home_mortgage_avg_rate_15_filter.set_index('Date')\n",
    "home_mortgage_avg_rate_15_filter.tail()"
   ]
  },
  {
   "cell_type": "code",
   "execution_count": null,
   "metadata": {},
   "outputs": [],
   "source": [
    "# plot based on opening prices\n",
    "fig,ax = plt.subplots()\n",
    "\n",
    "home_mortgage_avg_rate_30_filter['Value'].plot (label = '30 year avg rate ', figsize = (16,8))\n",
    "home_mortgage_avg_rate_15_filter['Value'].plot (label = '15 year avg rate')\n",
    "#home_mortgage_avg_rate_5_filter['Value'].plot (label = '5 year avg rate')\n",
    "\n",
    "\n",
    "# home_mortgage_refinance_rate_filter['Value'].plot (label = 'refinance rate')\n",
    "filtered_prime_rate_df['MPRIME'].plot( label = 'prime rate')\n",
    "\n",
    "ax.set_ylabel(\"% rate\",fontsize=14)\n",
    "ax.set_title(\"prime rate / mortgage rate\")\n",
    "plt.grid()\n",
    "\n",
    "plt.legend();"
   ]
  },
  {
   "cell_type": "markdown",
   "metadata": {},
   "source": [
    "# 5/1-Year Adjustable Rate Mortgage Average in the United States\n"
   ]
  },
  {
   "cell_type": "code",
   "execution_count": null,
   "metadata": {},
   "outputs": [],
   "source": [
    "home_mortgage_avg_rate_5 = quandl.get(\"FMAC/5US\", authtoken=API_key)\n",
    "home_mortgage_avg_rate_5.tail()"
   ]
  },
  {
   "cell_type": "code",
   "execution_count": null,
   "metadata": {},
   "outputs": [],
   "source": [
    "home_mortgage_avg_rate_5 = home_mortgage_avg_rate_5.reset_index()\n",
    "home_mortgage_avg_rate_5.tail()"
   ]
  },
  {
   "cell_type": "code",
   "execution_count": null,
   "metadata": {},
   "outputs": [],
   "source": [
    "home_mortgage_avg_rate_5_filter = home_mortgage_avg_rate_5.loc[(home_mortgage_avg_rate_5['Date'] >= '2016-01-01') ]\n",
    "home_mortgage_avg_rate_5_filter.tail()"
   ]
  },
  {
   "cell_type": "code",
   "execution_count": null,
   "metadata": {},
   "outputs": [],
   "source": [
    "home_mortgage_avg_rate_5_filter = home_mortgage_avg_rate_5_filter.set_index('Date')\n",
    "home_mortgage_avg_rate_5_filter.tail()"
   ]
  },
  {
   "cell_type": "code",
   "execution_count": null,
   "metadata": {},
   "outputs": [],
   "source": [
    "home_mortgage_avg_rate_7 = quandl.get(\"WFC/PR_CON_71ARM_APR\", authtoken=API_key)\n",
    "home_mortgage_avg_rate_7.tail()"
   ]
  },
  {
   "cell_type": "code",
   "execution_count": null,
   "metadata": {},
   "outputs": [],
   "source": [
    "home_mortgage_avg_rate_7 = home_mortgage_avg_rate_7.reset_index()\n",
    "home_mortgage_avg_rate_7.tail()"
   ]
  },
  {
   "cell_type": "code",
   "execution_count": null,
   "metadata": {},
   "outputs": [],
   "source": [
    "home_mortgage_avg_rate_7_filter = home_mortgage_avg_rate_7.loc[(home_mortgage_avg_rate_7['Date'] >= '2016-01-01') ]\n",
    "                     \n",
    "home_mortgage_avg_rate_7_filter.tail()"
   ]
  },
  {
   "cell_type": "code",
   "execution_count": null,
   "metadata": {},
   "outputs": [],
   "source": [
    "home_mortgage_avg_rate_7_filter = home_mortgage_avg_rate_7_filter.set_index('Date')\n",
    "home_mortgage_avg_rate_7_filter.tail()"
   ]
  },
  {
   "cell_type": "code",
   "execution_count": null,
   "metadata": {},
   "outputs": [],
   "source": [
    "# Filter data for 5 years\n",
    "filtered_prime_rate_5yrs = prime_rate.loc[(prime_rate['Date'] >= '2016-01-01') ]\n",
    "                     \n",
    "filtered_prime_rate_5yrs.tail()"
   ]
  },
  {
   "cell_type": "code",
   "execution_count": null,
   "metadata": {},
   "outputs": [],
   "source": [
    "filtered_prime_rate_5yrs_df =filtered_prime_rate_5yrs.set_index('Date')\n",
    "filtered_prime_rate_5yrs_df.tail()"
   ]
  },
  {
   "cell_type": "code",
   "execution_count": null,
   "metadata": {},
   "outputs": [],
   "source": [
    "# home_mortgage_avg_rate_5_filter_5yrs = home_mortgage_avg_rate_5.loc[(home_mortgage_avg_rate_5['Date'] >= '2016-01-01') ]\n",
    "# home_mortgage_avg_rate_5_filter_5yrs.tail()"
   ]
  },
  {
   "cell_type": "markdown",
   "metadata": {},
   "source": [
    "# Home Mortgage Loans: Conforming Loan, 7/1 ARM, APR"
   ]
  },
  {
   "cell_type": "code",
   "execution_count": null,
   "metadata": {},
   "outputs": [],
   "source": [
    "# plot based on prime rate 7 years and 5 years\n",
    "fig,ax = plt.subplots()\n",
    "\n",
    "\n",
    "home_mortgage_avg_rate_7_filter['Value'].plot (label = '7 year avg rate', figsize = (16,8))\n",
    "home_mortgage_avg_rate_5_filter['Value'].plot (label = '5 year avg rate')\n",
    "\n",
    "\n",
    "# home_mortgage_refinance_rate_filter['Value'].plot (label = 'refinance rate')\n",
    "filtered_prime_rate_5yrs_df['MPRIME'].plot( label = 'prime rate',color=\"red\")\n",
    "\n",
    "ax.set_ylabel(\"% rate\",fontsize=14)\n",
    "ax.set_title(\"prime rate / mortgage rate\")\n",
    "\n",
    "plt.legend();"
   ]
  },
  {
   "cell_type": "code",
   "execution_count": null,
   "metadata": {},
   "outputs": [],
   "source": [
    "filtered_prime_rate_df\n",
    "home_mortgage_avg_rate_30_filter\n",
    "home_mortgage_avg_rate_15_filter\n",
    "\n",
    "filtered_prime_rate_5yrs_df\n",
    "home_mortgage_avg_rate_7_filter\n",
    "home_mortgage_avg_rate_5_filter\n"
   ]
  },
  {
   "cell_type": "code",
   "execution_count": null,
   "metadata": {},
   "outputs": [],
   "source": [
    "# deploy to Aws\n",
    "from config import remote_db_endpoint, remote_db_port\n",
    "from config import remote_db_name, remote_db_user, remote_db_pwd\n",
    "import mysql.connector"
   ]
  },
  {
   "cell_type": "code",
   "execution_count": null,
   "metadata": {},
   "outputs": [],
   "source": [
    "engine = create_engine(f\"mysql://{remote_db_user}:{remote_db_pwd}@{remote_db_endpoint}:{remote_db_port}/{remote_db_name}\")\n",
    "conn = engine.connect()"
   ]
  },
  {
   "cell_type": "code",
   "execution_count": null,
   "metadata": {},
   "outputs": [],
   "source": [
    "# home_mortgage_avg_rate_30_filter.to_sql(name='mortgage30y_rates', con=engine, if_exists = 'replace', index=True)\n",
    "\n",
    "# home_mortgage_avg_rate_15_filter.to_sql(name='mortgage15y_rates', con=engine, if_exists = 'replace', index=True)\n",
    "\n",
    "# filtered_prime_rate_5yrs_df.to_sql(name='us_5yprime_rate', con=engine, if_exists = 'replace', index=True)\n",
    "\n",
    "# home_mortgage_avg_rate_7_filter.to_sql(name='mortgage7y_rates', con=engine, if_exists = 'replace', index=True)\n",
    "\n",
    "# home_mortgage_avg_rate_5_filter.to_sql(name='mortgage5y_rates', con=engine, if_exists = 'replace', index=True)\n",
    "# #us_prime_rate"
   ]
  },
  {
   "cell_type": "code",
   "execution_count": null,
   "metadata": {},
   "outputs": [],
   "source": []
  },
  {
   "cell_type": "code",
   "execution_count": null,
   "metadata": {},
   "outputs": [],
   "source": [
    "# query = pd.read_sql(\"select * from mortgage5y_rates\",conn)\n",
    "# data_5yrs =query.to_json(orient =\"records\")\n",
    "# data_5yrs\n"
   ]
  },
  {
   "cell_type": "code",
   "execution_count": null,
   "metadata": {},
   "outputs": [],
   "source": []
  }
 ],
 "metadata": {
  "kernelspec": {
   "display_name": "Python 3",
   "language": "python",
   "name": "python3"
  },
  "language_info": {
   "codemirror_mode": {
    "name": "ipython",
    "version": 3
   },
   "file_extension": ".py",
   "mimetype": "text/x-python",
   "name": "python",
   "nbconvert_exporter": "python",
   "pygments_lexer": "ipython3",
   "version": "3.8.3"
  }
 },
 "nbformat": 4,
 "nbformat_minor": 4
}
